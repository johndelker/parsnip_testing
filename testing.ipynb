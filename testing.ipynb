{
 "cells": [
  {
   "cell_type": "markdown",
   "metadata": {},
   "source": [
    "# ParSNIP Limitation Analysis\n",
    "This notebook uses a set of scripts to analyze how the accuracy of ParSNIP's classifications degrade with particular modifications. Our goal is to find which conditions and parameters are most important to producing an accurate classification, and to learn how early in an object's variability a classification can be trusted.\n",
    "\n",
    "### Current Features\n",
    "1. Modifies datasets by limiting the maximum number of observations.\n",
    "2. Modifies datasets by adding an offset to the reference time.\n",
    "3. Visualizes how classification accuracy changes with modifications.\n",
    "4. Interactively visualizes how light curve prediction changes with modifications.\n",
    "\n",
    "### Planned Improvements\n",
    "1. Currently, cutoff modifications remove observations from the entire curve. Ideally, it would remove fewer points but only from areas of variability. This way we can see which parts of the variability in a class are most important to observe.\n",
    "2. Add ability to see classification grids for different sets of allowed bandpasses. This will allow us to see which bands are most important to distinguishing classes.\n",
    "\n",
    "### Important Notes\n",
    "1. If running this on epyc, I recommend using the kernel called \"John Delker's Python 3.10\".\n",
    "2. This notebook can be used with some non-plasticc datasets such as PS1, but a few settings will need to be changed, such as the names of bandpasses. I recommend making sure it runs with plasticc before trying to change the dataset used.\n",
    "\n",
    "*written by John Delker (jfla@uw.edu) at the University of Washington, Astronomy Department*"
   ]
  },
  {
   "cell_type": "markdown",
   "metadata": {},
   "source": [
    "## Load dependencies"
   ]
  },
  {
   "cell_type": "code",
   "execution_count": 1,
   "metadata": {
    "ExecuteTime": {
     "end_time": "2024-03-25T00:04:43.956625700Z",
     "start_time": "2024-03-25T00:04:43.788019Z"
    }
   },
   "outputs": [
    {
     "name": "stderr",
     "output_type": "stream",
     "text": [
      "WARNING: AstropyDeprecationWarning: The update_default_config function is deprecated and may be removed in a future version. [sncosmo]\n"
     ]
    }
   ],
   "source": [
    "import modifications as mods\n",
    "import numpy as np\n",
    "import analysis\n",
    "import parsnip\n",
    "import os\n",
    "\n",
    "# This forces the local modules to reload when a cell is run. \n",
    "# Otherwise, we'd have to restart the kernel if changes are made to a module.\n",
    "# Will be removed if this notebook is made more publicly available in the future\n",
    "%load_ext autoreload\n",
    "%autoreload 2"
   ]
  },
  {
   "cell_type": "markdown",
   "metadata": {},
   "source": [
    "## Settings"
   ]
  },
  {
   "cell_type": "code",
   "execution_count": 2,
   "metadata": {
    "ExecuteTime": {
     "end_time": "2024-03-25T00:04:44.029592900Z",
     "start_time": "2024-03-25T00:04:43.887622800Z"
    }
   },
   "outputs": [],
   "source": [
    "# Paths to the public data folder, along with the desired dataset and predictions\n",
    "parsnip_data_path = \"/epyc/data/parsnip_tests/\"\n",
    "predictions_path = \"predictions/parsnip_predictions_plasticc_train_aug_100.h5\"\n",
    "classifier_path = \"classifiers/plasticc_classifier\"\n",
    "dataset_path = \"data/plasticc_refined.h5\" # plasticc_refined.h5 contains only objects with high flux-to-error ratio\n",
    "\n",
    "# Should a new classifier be loaded from a file, created and saved to a file, or just created temporarily?\n",
    "classifier_action = \"LOAD\" # Options: LOAD, CREATE, TEMP\n",
    "\n",
    "# Information about the dataset\n",
    "dataset_type = \"plasticc\" # Options: plasticc, ps1 (untested)\n",
    "dataset_bands = [\"lsstu\", \"lsstg\", \"lsstr\", \"lssti\", \"lsstz\", \"lssty\"]\n",
    "\n",
    "# Visual settings\n",
    "band_colors = [\"blue\", \"green\", \"red\", \"purple\", \"brown\", \"black\"]\n",
    "\n",
    "# Classes that ParSNIP is currently capable of classifying\n",
    "parsnip_classes = list([\"SNIa\", \"SNII\", \"SLSN-I\", \"SNIa-91bg\", \"SNIax\", \"SNIbc\", \"TDE\"])"
   ]
  },
  {
   "cell_type": "markdown",
   "metadata": {},
   "source": [
    "## Initial Setup"
   ]
  },
  {
   "cell_type": "code",
   "execution_count": 3,
   "metadata": {
    "ExecuteTime": {
     "end_time": "2024-03-25T00:04:52.547783800Z",
     "start_time": "2024-03-25T00:04:43.964623400Z"
    }
   },
   "outputs": [
    {
     "name": "stdout",
     "output_type": "stream",
     "text": [
      "Parsing 'plasticc_refined.h5' as PLAsTiCC dataset...\n",
      "Rejecting 0 non-supernova-like light curves.\n",
      "Dataset contains 185411 light curves.\n"
     ]
    }
   ],
   "source": [
    "# Loads the dataset, removing any objects that ParSNIP is incapable of classifying\n",
    "dataset = parsnip.load_dataset(os.path.join(parsnip_data_path, dataset_path))\n",
    "dataset = dataset[(np.in1d(dataset.meta['type'], parsnip_classes))]\n",
    "    \n",
    "# Either loads an existing classifier, creates a new one and saves it, or creates a temporary classifier\n",
    "if classifier_action == \"LOAD\":\n",
    "    classifier = parsnip.Classifier().load(os.path.join(parsnip_data_path, classifier_path))\n",
    "elif classifier_action == \"CREATE\":\n",
    "    classifier = modifications.prepare_classifier(\n",
    "        os.path.join(parsnip_data_path, predictions_path), \n",
    "        os.path.join(parsnip_data_path, classifier_path))\n",
    "elif classifier_action == \"TEMP\":\n",
    "    classifier = modifications.prepare_classifier(os.path.join(parsnip_data_path, predictions_path))\n",
    "\n",
    "# Store settings in a way that's easy to pass into functions\n",
    "settings = {\n",
    "    \"model\": parsnip.load_model(dataset_type),\n",
    "    \"dataset\": dataset,\n",
    "    \"classifier\": classifier,\n",
    "    \"all_bands\": dataset_bands,\n",
    "    \"band_colors\": band_colors\n",
    "}"
   ]
  },
  {
   "cell_type": "markdown",
   "metadata": {},
   "source": [
    "## Analyzing the predicted light curve changes with modifications"
   ]
  },
  {
   "cell_type": "code",
   "execution_count": 11,
   "metadata": {
    "ExecuteTime": {
     "end_time": "2024-03-25T00:44:04.181075800Z",
     "start_time": "2024-03-25T00:43:59.515136200Z"
    },
    "scrolled": false
   },
   "outputs": [
    {
     "data": {
      "application/vnd.jupyter.widget-view+json": {
       "model_id": "42cc5b1a18e448c08848380c57b57ebf",
       "version_major": 2,
       "version_minor": 0
      },
      "text/plain": [
       "Output()"
      ]
     },
     "metadata": {},
     "output_type": "display_data"
    },
    {
     "data": {
      "application/vnd.jupyter.widget-view+json": {
       "model_id": "564857f27c524b51a0f1542dcae43e22",
       "version_major": 2,
       "version_minor": 0
      },
      "text/plain": [
       "HBox(children=(VBox(children=(Dropdown(description='Modification Type:', options=('CUTOFF', 'REFERENCE TIME'),…"
      ]
     },
     "metadata": {},
     "output_type": "display_data"
    }
   ],
   "source": [
    "analysis.plot_interactable_curve(settings)"
   ]
  },
  {
   "cell_type": "markdown",
   "metadata": {},
   "source": [
    "## Classifying the dataset with various offsets to the reference time"
   ]
  },
  {
   "cell_type": "code",
   "execution_count": null,
   "metadata": {
    "ExecuteTime": {
     "end_time": "2024-01-01T23:39:56.051124800Z",
     "start_time": "2024-01-01T23:39:38.303714600Z"
    }
   },
   "outputs": [],
   "source": [
    "timing_tests = mods.classify_offsets(settings, 5000, settings[\"all_bands\"], [-30, -20, -10, 10, 20, 30])"
   ]
  },
  {
   "cell_type": "markdown",
   "metadata": {},
   "source": [
    "## Classifying the dataset with a decreasing limit on observation count"
   ]
  },
  {
   "cell_type": "code",
   "execution_count": null,
   "metadata": {
    "ExecuteTime": {
     "end_time": "2024-01-01T23:40:27.695558400Z",
     "start_time": "2024-01-01T23:39:57.170741800Z"
    }
   },
   "outputs": [],
   "source": [
    "cutoff_tests = mods.classify_cutoffs(settings, 5000, settings[\"all_bands\"], [48, 32, 24, 16, 12, 8])"
   ]
  },
  {
   "cell_type": "markdown",
   "metadata": {},
   "source": [
    "## Comparing SNIa vs SNII classifications\n",
    "ParSNIP often misclassifies Type Ia supernovae as Type II or has a similar probability for each class. The reverse is not true, as it rarely, if ever, classifies a Type II supernova as a Type Ia. Reference time modifications only seem to make misclassifications more likely for SNIa objects, especially when the reference time is shifted backwards. These changes have no effect on SNIa misclassifications for SNII objects, however."
   ]
  },
  {
   "cell_type": "code",
   "execution_count": null,
   "metadata": {
    "ExecuteTime": {
     "end_time": "2024-01-01T23:39:56.606124Z",
     "start_time": "2024-01-01T23:39:56.059125100Z"
    },
    "scrolled": false
   },
   "outputs": [],
   "source": [
    "analysis.plot_class_grid(timing_tests, xaxis_label = \"Reference Time Offset (days)\", classes = \"SNIa,SNII\", max_objects = -1)"
   ]
  },
  {
   "cell_type": "code",
   "execution_count": null,
   "metadata": {},
   "outputs": [],
   "source": [
    "analysis.plot_class_grid(cutoff_tests, xaxis_label = \"Observation Limit\", classes = \"SNIa,SNII\", max_objects = -1)"
   ]
  },
  {
   "cell_type": "markdown",
   "metadata": {},
   "source": [
    "## Comparing SNII vs TDE classifications\n",
    "SNII are often misclassified as Tidal Disruption Events, while the reverse is not true. However, there are very few TDE in the analyzed dataset, so the accuracy of the TDE results is likely low. When modifying the reference time for SNII objects, the SNII and TDE probabilities seem to follow a similar pattern of change."
   ]
  },
  {
   "cell_type": "code",
   "execution_count": null,
   "metadata": {},
   "outputs": [],
   "source": [
    "analysis.plot_class_grid(timing_tests, xaxis_label = \"Reference Time Offset (days)\", classes = \"SNII,TDE\", max_objects = -1)"
   ]
  },
  {
   "cell_type": "code",
   "execution_count": null,
   "metadata": {},
   "outputs": [],
   "source": [
    "analysis.plot_class_grid(cutoff_tests, xaxis_label = \"Observation Limit\", classes = \"SNII,TDE\", max_objects = -1)"
   ]
  },
  {
   "cell_type": "markdown",
   "metadata": {},
   "source": [
    "## All classifications when modifying reference time"
   ]
  },
  {
   "cell_type": "code",
   "execution_count": null,
   "metadata": {
    "ExecuteTime": {
     "end_time": "2024-01-01T23:40:28.612215600Z",
     "start_time": "2024-01-01T23:40:27.701464Z"
    },
    "scrolled": false
   },
   "outputs": [],
   "source": [
    "analysis.plot_class_grid(timing_tests, xaxis_label = \"Reference Time Offset (days)\", classes = \"ALL\", max_objects = -1)"
   ]
  },
  {
   "cell_type": "markdown",
   "metadata": {},
   "source": [
    "## All classifications when modifying observation cutoff"
   ]
  },
  {
   "cell_type": "code",
   "execution_count": null,
   "metadata": {},
   "outputs": [],
   "source": [
    "analysis.plot_class_grid(cutoff_tests, xaxis_label = \"Observation Limit\", classes = \"ALL\", max_objects = -1)"
   ]
  },
  {
   "cell_type": "code",
   "execution_count": null,
   "metadata": {},
   "outputs": [],
   "source": []
  }
 ],
 "metadata": {
  "kernelspec": {
   "display_name": "John Delker's Python 3.10",
   "language": "python",
   "name": "jfla_py310"
  },
  "language_info": {
   "codemirror_mode": {
    "name": "ipython",
    "version": 3
   },
   "file_extension": ".py",
   "mimetype": "text/x-python",
   "name": "python",
   "nbconvert_exporter": "python",
   "pygments_lexer": "ipython3",
   "version": "3.10.9"
  }
 },
 "nbformat": 4,
 "nbformat_minor": 4
}
